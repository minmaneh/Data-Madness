{
 "cells": [
  {
   "cell_type": "markdown",
   "source": "",
   "metadata": {
    "cell_id": "e742936f-d4f4-40c6-8d43-49048140c619",
    "tags": [],
    "deepnote_cell_type": "markdown",
    "deepnote_cell_height": 46
   }
  },
  {
   "cell_type": "markdown",
   "source": "# Data Madness - Group 3 ",
   "metadata": {
    "cell_id": "f20c4d53-ea0b-460b-8ff1-6b8b2be73c32",
    "tags": [],
    "is_collapsed": false,
    "deepnote_cell_type": "text-cell-h1"
   }
  },
  {
   "cell_type": "markdown",
   "source": "## Advice for Newcastle FC: Analysis of the European Football Transfer Market.",
   "metadata": {
    "cell_id": "224433f8-a751-4bfd-9fed-db279f83929b",
    "tags": [],
    "is_collapsed": false,
    "deepnote_cell_type": "text-cell-h2"
   }
  },
  {
   "cell_type": "markdown",
   "source": "The data has been scrapped from Transfermarkt (https://www.transfermarkt.com/) and the English Premier League official website (https://www.premierleague.com/stats/top/players).The datasets for the transfers and player statistics has been made receptively.",
   "metadata": {
    "cell_id": "fe5cc19b-bf46-4c8b-9356-162e9e41d749",
    "tags": [],
    "is_collapsed": false,
    "deepnote_cell_type": "text-cell-p"
   }
  },
  {
   "cell_type": "markdown",
   "source": "The questions that have been answered during this project include: \n \nHas Newcastle FC overpaid for the transfers completed in the winter window of season 2021/2022?  \n\nWhich teams have the best transfer policies? ",
   "metadata": {
    "cell_id": "342c31c4-3c5e-44e4-a09f-411d160c57df",
    "tags": [],
    "deepnote_cell_type": "markdown",
    "deepnote_cell_height": 124
   }
  },
  {
   "cell_type": "code",
   "metadata": {
    "tags": [],
    "cell_id": "7f170fc7-aae8-4cc9-8c35-07ae8884b7f3",
    "deepnote_to_be_reexecuted": false,
    "source_hash": "247882a2",
    "execution_start": 1647781418761,
    "execution_millis": 1012,
    "deepnote_cell_type": "code",
    "deepnote_cell_height": 207
   },
   "source": "# all necessary libraries \nimport pandas as pd\nimport numpy as np\nimport requests\nfrom bs4 import BeautifulSoup\nfrom sklearn.linear_model import LinearRegression\nfrom sklearn.model_selection import train_test_split\nfrom sklearn.metrics import r2_score",
   "outputs": [],
   "execution_count": null
  },
  {
   "cell_type": "markdown",
   "source": "## Scraping",
   "metadata": {
    "cell_id": "a893374f-aa97-4a45-ad86-dfa51e11bae4",
    "tags": [],
    "is_collapsed": false,
    "deepnote_cell_type": "text-cell-h2"
   }
  },
  {
   "cell_type": "markdown",
   "source": "The reviewer of this code does not need to run the scraping cells as it requires the change of multiple links both for obtaining transfer and player statistics datasets.Instead,the datasets which are fully scrapped from scratch will be uploaded as a csv.(the final version of datasets being used for the analyses)",
   "metadata": {
    "cell_id": "4e4c7e30-7a7f-44dd-a400-d2e27aa5b1a1",
    "tags": [],
    "deepnote_cell_type": "markdown",
    "deepnote_cell_height": 96
   }
  },
  {
   "cell_type": "markdown",
   "source": "### Scraping Transfer Data from Transfermarkt",
   "metadata": {
    "cell_id": "cade073d-1733-49f8-a199-158b3d237b7f",
    "tags": [],
    "is_collapsed": false,
    "deepnote_cell_type": "text-cell-h3"
   }
  },
  {
   "cell_type": "markdown",
   "source": "The cells below have been used to scrap the data from the Transfermarkt.Only the year has been changed to get the corresponding year transfers.Only transfers In(coming to the English club) has been kept in the final datasets.Also the in clubs have been added manually by creating corresponding csv. ",
   "metadata": {
    "cell_id": "1409078b-24d2-463e-a488-85f641db24cb",
    "tags": [],
    "deepnote_cell_type": "markdown",
    "deepnote_cell_height": 96
   }
  },
  {
   "cell_type": "code",
   "metadata": {
    "cell_id": "b40936df-9d48-47d1-a85c-53ddaf9dde03",
    "tags": [],
    "deepnote_to_be_reexecuted": false,
    "source_hash": "c8f2cd56",
    "execution_start": 1647781419793,
    "execution_millis": 2803,
    "deepnote_cell_type": "code",
    "deepnote_cell_height": 1089
   },
   "source": "\nheaders = {\"User-Agent\":\"Mozilla/5.0 (Macintosh; Intel Mac OS X 10_15_2) AppleWebKit/605.1.15 (KHTML, like Gecko) Safari/605.1.15 Version/13.0.4\"}\n\npage = \"https://www.transfermarkt.com/premier-league/transfers/wettbewerb/GB1/plus/?saison_id=2019&s_w=&leihe=0&intern=0\"\npageTree = requests.get(page,headers = headers)\ntransferSoup = BeautifulSoup(pageTree.content, \"html.parser\")\n\nplayerList = []\nnationList = []\nageList = []\npositionList = []\nmarketValuesList = []\nleavingClubsList = []\nfeeList= []\nplayers_df = pd.DataFrame()\n\nplayers = transferSoup.find_all(\"div\", {\"class\": \"di nowrap\"})\nnationality = transferSoup.find_all(\"td\", {\"class\": \"zentriert nat-transfer-cell\"})\nage = transferSoup.findAll(\"td\",{\"class\":\"zentriert alter-transfer-cell\"})\npositions = transferSoup.find_all(\"td\",{\"class\":\"pos-transfer-cell\"})\nmarketValues = transferSoup.find_all(\"td\",{\"class\":\"rechts mw-transfer-cell\"})\nleavingClubs = transferSoup.find_all(\"td\",{\"class\":\"no-border-links verein-flagge-transfer-cell\"})\nfees = transferSoup.find_all(\"td\",{\"class\":\"rechts\"})\n\nfor i in range(len(age)):\n    ageList.append(age[i].text)\n    positionList.append(positions[i].text)\n    marketValuesList.append(marketValues[i].text)\nfor i in range(1,len(age)*2,2):\n    feeList.append(fees[i].text)\nfor i in range(len(nationality)):\n    nation = str(nationality[i])\n    nation = nation.split(\" \")[-1].split('\"')[1]\n    nationList.append(nation)\nfor i in range(len(leavingClubs)):\n    leavingClub = str(leavingClubs[i])\n    leavingClub = leavingClub.split(\"title\")[-1]\n    start = leavingClub.find(\">\") + 1\n    end = leavingClub.find(\"<\")\n    leavingClub = leavingClub[start:end]\n    leavingClubsList.append(leavingClub)\nplayerListDup = []\nfor i in range(len(players)):\n    player = str(players[i])\n    player = player.split(\"title\")[-1]\n    start = player.find(\">\") + 1\n    end = player.find(\"<\")\n    player = player[start:end]\n    playerListDup.append(player)\nfor i in range(0,len(playerListDup),2):\n    playerList.append(playerListDup[i])\n\ntransfers = pd.DataFrame(list(zip(playerList,leavingClubsList,ageList,nationList,positionList,marketValuesList,feeList)),\n            columns =['Name',\"Out\",'Age',\"Nationality\",\"Position\",\"Market_Value\",\"Transfer_Fee\"])\n#transfers\n\n",
   "outputs": [],
   "execution_count": null
  },
  {
   "cell_type": "markdown",
   "source": "### Scraping Player Statistics from English Premiere League official website.",
   "metadata": {
    "cell_id": "e5759579-e7c2-4417-8d4e-668ddbacfaf7",
    "tags": [],
    "is_collapsed": false,
    "deepnote_cell_type": "text-cell-h3"
   }
  },
  {
   "cell_type": "markdown",
   "source": "The player statistics has been obtained running the script below for each player changing the link each time.The name correspondence has been done manually ,checking that all players are in both the transfer and player statistics dataset.",
   "metadata": {
    "cell_id": "03ff42d8-50c7-45de-83cf-45fc04c9d551",
    "tags": [],
    "deepnote_cell_type": "markdown",
    "deepnote_cell_height": 74
   }
  },
  {
   "cell_type": "code",
   "metadata": {
    "cell_id": "c557e00e-ec85-4093-beda-feaf541cc603",
    "tags": [],
    "deepnote_to_be_reexecuted": false,
    "source_hash": "c7cc6301",
    "execution_start": 1647781422605,
    "execution_millis": 323,
    "deepnote_cell_type": "code",
    "deepnote_cell_height": 441
   },
   "source": "#The link to the player statistics needs to be changed each time while running the code \n#to get the dataset below\nheaders = {\"User-Agent\":\"Mozilla/5.0 (Macintosh; Intel Mac OS X 10_15_2) AppleWebKit/605.1.15 (KHTML, like Gecko) Safari/605.1.15 Version/13.0.4\"}\n\npage = \"https://www.premierleague.com/players/5061/Andr%C3%A9-Gomes/stats\"\npageTree = requests.get(page,headers = headers)\nplayerSoup = BeautifulSoup(pageTree.content, \"html.parser\")\n\n\nplayer_top_stats = playerSoup.find_all(\"div\", {\"class\": \"topStat\"})\nplayer_stats = playerSoup.find_all(\"div\", {\"class\": \"normalStat\"})\nplayer_name = playerSoup.find(\"meta\", property=\"og:title\")\nplayer_name_list = str(player_name).replace('\"',\" \").split(\" \")\nplayer_name = player_name_list[2] + \" \" +  player_name_list[3]\nplayer_pos = playerSoup.find_all(\"div\", {\"class\": \"info\"})[-1].text\nplayers_df = pd.DataFrame()\n\nplayer_profile = dict()\nplayer_profile[\"Name\"] = player_name\nplayer_profile[\"Position\"] = player_pos\n",
   "outputs": [],
   "execution_count": null
  },
  {
   "cell_type": "code",
   "metadata": {
    "cell_id": "5a1079f3-7295-41fa-b8c7-6b9b06917228",
    "tags": [],
    "deepnote_to_be_reexecuted": false,
    "source_hash": "38ad97d3",
    "execution_start": 1647781422930,
    "execution_millis": 23,
    "deepnote_cell_type": "code",
    "deepnote_cell_height": 369
   },
   "source": "for i in range(len(player_top_stats)):\n    player_top_stats[i] = player_top_stats[i].text.replace(\"\\n\",\" \").strip()\n    key = player_top_stats[i].split(\"         \")[0]\n    value = player_top_stats[i].split(\"         \")[1]\n    value = value.strip()\n    player_profile[key] = value\n    \nfor i in range(len(player_stats)):\n    player_stats[i] = player_stats[i].text.replace(\"\\n\",\" \").strip()\n    key = player_stats[i].split(\"         \")[0]\n    value = player_stats[i].split(\"         \")[1]\n    value = value.strip()\n    player_profile[key] = value\n\nplayer_df = pd.DataFrame(player_profile, index = [0])\nplayers_df = players_df.append(player_df)\n#players_df",
   "outputs": [],
   "execution_count": null
  },
  {
   "cell_type": "code",
   "metadata": {
    "cell_id": "8e4d1e59-97f3-4938-930f-403aa29f05ba",
    "tags": [],
    "deepnote_to_be_reexecuted": false,
    "source_hash": "515a7cb4",
    "execution_start": 1647781422958,
    "execution_millis": 34,
    "deepnote_cell_type": "code",
    "deepnote_cell_height": 117
   },
   "source": "#Loading the players and transfers final datasets\ndata_players=pd.read_csv('players.csv')\ndata_transfers=pd.read_csv('all_transfers_data.csv')",
   "outputs": [],
   "execution_count": null
  },
  {
   "cell_type": "markdown",
   "source": "## Data Analysis",
   "metadata": {
    "cell_id": "1ac279fc-5638-4004-a9c4-6a621c6ae9aa",
    "tags": [],
    "is_collapsed": false,
    "deepnote_cell_type": "text-cell-h2"
   }
  },
  {
   "cell_type": "code",
   "metadata": {
    "cell_id": "e1b683f2-3f8e-4324-9ff5-51bfa439900f",
    "tags": [],
    "deepnote_to_be_reexecuted": false,
    "source_hash": "2dc28b9b",
    "execution_start": 1647781422997,
    "execution_millis": 45,
    "deepnote_cell_type": "code",
    "deepnote_cell_height": 405
   },
   "source": "def clean_transfers(dataset):\n\n    dataset['Market_Value'] = dataset['Market_Value'].str[1:].str[:-1]\n    dataset['Transfer_Fee'] = dataset['Transfer_Fee'].str[1:].str[:-1]\n\n    for index, value in dataset['Market_Value'].items():\n        if value.endswith('Th'):\n            # convert to million\n            dataset.loc[index, 'Market_Value'] = int(value[:-2])/1000\n\n    for index, value in dataset['Transfer_Fee'].items():\n        if value.endswith('Th'):\n            # convert to million\n            dataset.loc[index, 'Transfer_Fee'] = int(value[:-2])/1000\n\n    dataset['Market_Value'] = pd.to_numeric(dataset['Market_Value'], downcast='float')\n    dataset['Transfer_Fee'] = pd.to_numeric(dataset['Transfer_Fee'], downcast='float')\n\n    return dataset",
   "outputs": [],
   "execution_count": null
  },
  {
   "cell_type": "code",
   "metadata": {
    "cell_id": "33985f26-537d-4c0d-a6a2-2191b4508ffa",
    "tags": [],
    "deepnote_to_be_reexecuted": false,
    "source_hash": "60cd135b",
    "execution_start": 1647781423042,
    "execution_millis": 1,
    "deepnote_cell_type": "code",
    "deepnote_cell_height": 81
   },
   "source": "data_transfers = clean_transfers(data_transfers)",
   "outputs": [],
   "execution_count": null
  },
  {
   "cell_type": "markdown",
   "source": "### Newcastle Transfers for the previous season",
   "metadata": {
    "cell_id": "ae448089-6485-41ec-bb2b-8fac258e6f0f",
    "tags": [],
    "is_collapsed": false,
    "deepnote_cell_type": "text-cell-h3"
   }
  },
  {
   "cell_type": "code",
   "metadata": {
    "cell_id": "6ffa1bc1-3e5e-4a32-823d-b43382fab4ee",
    "tags": [],
    "deepnote_to_be_reexecuted": false,
    "source_hash": "bbccff9f",
    "execution_start": 1647781423091,
    "execution_millis": 0,
    "deepnote_cell_type": "code",
    "deepnote_cell_height": 117
   },
   "source": "#The transfers which Newcastle made in year 2021-2022\ndata_newcastle=data_transfers.loc[data_transfers['In'] == 'Newcastle']\ndata_newcastle_2122=data_newcastle.loc[data_newcastle['Season']=='2021 - 2022']",
   "outputs": [],
   "execution_count": null
  },
  {
   "cell_type": "code",
   "metadata": {
    "cell_id": "df3625f0-3977-4733-b160-ccddb6eab1f8",
    "tags": [],
    "deepnote_to_be_reexecuted": false,
    "source_hash": "b938b671",
    "execution_start": 1647781423092,
    "execution_millis": 84,
    "deepnote_cell_type": "code",
    "deepnote_cell_height": 393
   },
   "source": "data_newcastle_2122",
   "outputs": [
    {
     "output_type": "execute_result",
     "execution_count": 9,
     "data": {
      "application/vnd.deepnote.dataframe.v3+json": {
       "column_count": 9,
       "row_count": 5,
       "columns": [
        {
         "name": "Name",
         "dtype": "object",
         "stats": {
          "unique_count": 5,
          "nan_count": 0,
          "categories": [
           {
            "name": "Bruno Guimarães",
            "count": 1
           },
           {
            "name": "Chris Wood",
            "count": 1
           },
           {
            "name": "3 others",
            "count": 3
           }
          ]
         }
        },
        {
         "name": "In",
         "dtype": "object",
         "stats": {
          "unique_count": 1,
          "nan_count": 0,
          "categories": [
           {
            "name": "Newcastle",
            "count": 5
           }
          ]
         }
        },
        {
         "name": "Out",
         "dtype": "object",
         "stats": {
          "unique_count": 5,
          "nan_count": 0,
          "categories": [
           {
            "name": "Olympique Lyon",
            "count": 1
           },
           {
            "name": "Burnley",
            "count": 1
           },
           {
            "name": "3 others",
            "count": 3
           }
          ]
         }
        },
        {
         "name": "Age",
         "dtype": "int64",
         "stats": {
          "unique_count": 5,
          "nan_count": 0,
          "min": "21",
          "max": "31",
          "histogram": [
           {
            "bin_start": 21,
            "bin_end": 22,
            "count": 1
           },
           {
            "bin_start": 22,
            "bin_end": 23,
            "count": 0
           },
           {
            "bin_start": 23,
            "bin_end": 24,
            "count": 0
           },
           {
            "bin_start": 24,
            "bin_end": 25,
            "count": 1
           },
           {
            "bin_start": 25,
            "bin_end": 26,
            "count": 0
           },
           {
            "bin_start": 26,
            "bin_end": 27,
            "count": 0
           },
           {
            "bin_start": 27,
            "bin_end": 28,
            "count": 0
           },
           {
            "bin_start": 28,
            "bin_end": 29,
            "count": 0
           },
           {
            "bin_start": 29,
            "bin_end": 30,
            "count": 1
           },
           {
            "bin_start": 30,
            "bin_end": 31,
            "count": 2
           }
          ]
         }
        },
        {
         "name": "Nationality",
         "dtype": "object",
         "stats": {
          "unique_count": 4,
          "nan_count": 0,
          "categories": [
           {
            "name": "England",
            "count": 2
           },
           {
            "name": "Spain",
            "count": 1
           },
           {
            "name": "2 others",
            "count": 2
           }
          ]
         }
        },
        {
         "name": "Position",
         "dtype": "object",
         "stats": {
          "unique_count": 5,
          "nan_count": 0,
          "categories": [
           {
            "name": "Defensive Midfield",
            "count": 1
           },
           {
            "name": "Centre-Forward",
            "count": 1
           },
           {
            "name": "3 others",
            "count": 3
           }
          ]
         }
        },
        {
         "name": "Market_Value",
         "dtype": "float32",
         "stats": {
          "unique_count": 5,
          "nan_count": 0,
          "min": "3.5",
          "max": "30.0",
          "histogram": [
           {
            "bin_start": 3.5,
            "bin_end": 6.150000095367432,
            "count": 2
           },
           {
            "bin_start": 6.150000095367432,
            "bin_end": 8.800000190734863,
            "count": 0
           },
           {
            "bin_start": 8.800000190734863,
            "bin_end": 11.449999809265137,
            "count": 0
           },
           {
            "bin_start": 11.449999809265137,
            "bin_end": 14.100000381469727,
            "count": 0
           },
           {
            "bin_start": 14.100000381469727,
            "bin_end": 16.75,
            "count": 0
           },
           {
            "bin_start": 16.75,
            "bin_end": 19.399999618530273,
            "count": 1
           },
           {
            "bin_start": 19.399999618530273,
            "bin_end": 22.049999237060547,
            "count": 1
           },
           {
            "bin_start": 22.049999237060547,
            "bin_end": 24.700000762939453,
            "count": 0
           },
           {
            "bin_start": 24.700000762939453,
            "bin_end": 27.350000381469727,
            "count": 0
           },
           {
            "bin_start": 27.350000381469727,
            "bin_end": 30,
            "count": 1
           }
          ]
         }
        },
        {
         "name": "Transfer_Fee",
         "dtype": "float32",
         "stats": {
          "unique_count": 4,
          "nan_count": 0,
          "min": "15.0",
          "max": "42.099998474121094",
          "histogram": [
           {
            "bin_start": 15,
            "bin_end": 17.709999084472656,
            "count": 2
           },
           {
            "bin_start": 17.709999084472656,
            "bin_end": 20.420000076293945,
            "count": 0
           },
           {
            "bin_start": 20.420000076293945,
            "bin_end": 23.1299991607666,
            "count": 0
           },
           {
            "bin_start": 23.1299991607666,
            "bin_end": 25.84000015258789,
            "count": 0
           },
           {
            "bin_start": 25.84000015258789,
            "bin_end": 28.549999237060547,
            "count": 0
           },
           {
            "bin_start": 28.549999237060547,
            "bin_end": 31.259998321533203,
            "count": 2
           },
           {
            "bin_start": 31.259998321533203,
            "bin_end": 33.96999740600586,
            "count": 0
           },
           {
            "bin_start": 33.96999740600586,
            "bin_end": 36.68000030517578,
            "count": 0
           },
           {
            "bin_start": 36.68000030517578,
            "bin_end": 39.38999938964844,
            "count": 0
           },
           {
            "bin_start": 39.38999938964844,
            "bin_end": 42.099998474121094,
            "count": 1
           }
          ]
         }
        },
        {
         "name": "Season",
         "dtype": "object",
         "stats": {
          "unique_count": 1,
          "nan_count": 0,
          "categories": [
           {
            "name": "2021 - 2022",
            "count": 5
           }
          ]
         }
        },
        {
         "name": "_deepnote_index_column",
         "dtype": "int64"
        }
       ],
       "rows": [
        {
         "Name": "Bruno Guimarães",
         "In": "Newcastle",
         "Out": "Olympique Lyon",
         "Age": 24,
         "Nationality": "Spain",
         "Position": "Defensive Midfield",
         "Market_Value": 30,
         "Transfer_Fee": 42.099998474121094,
         "Season": "2021 - 2022",
         "_deepnote_index_column": 36
        },
        {
         "Name": "Chris Wood",
         "In": "Newcastle",
         "Out": "Burnley",
         "Age": 30,
         "Nationality": "New Zeland",
         "Position": "Centre-Forward",
         "Market_Value": 6,
         "Transfer_Fee": 30,
         "Season": "2021 - 2022",
         "_deepnote_index_column": 42
        },
        {
         "Name": "Dan Burn",
         "In": "Newcastle",
         "Out": "Brighton",
         "Age": 29,
         "Nationality": "England",
         "Position": "Centre-Back",
         "Market_Value": 3.5,
         "Transfer_Fee": 15,
         "Season": "2021 - 2022",
         "_deepnote_index_column": 52
        },
        {
         "Name": "Joe Willock",
         "In": "Newcastle",
         "Out": "Arsenal",
         "Age": 21,
         "Nationality": "Montserrat",
         "Position": "Central Midfield",
         "Market_Value": 22,
         "Transfer_Fee": 29.399999618530273,
         "Season": "2021 - 2022",
         "_deepnote_index_column": 122
        },
        {
         "Name": "Kieran Trippier",
         "In": "Newcastle",
         "Out": "Atlético Madrid",
         "Age": 31,
         "Nationality": "England",
         "Position": "Right-Back",
         "Market_Value": 18,
         "Transfer_Fee": 15,
         "Season": "2021 - 2022",
         "_deepnote_index_column": 141
        }
       ]
      },
      "text/plain": "                Name         In              Out  Age Nationality  \\\n36   Bruno Guimarães  Newcastle   Olympique Lyon   24       Spain   \n42        Chris Wood  Newcastle          Burnley   30  New Zeland   \n52          Dan Burn  Newcastle         Brighton   29     England   \n122      Joe Willock  Newcastle          Arsenal   21  Montserrat   \n141  Kieran Trippier  Newcastle  Atlético Madrid   31     England   \n\n               Position  Market_Value  Transfer_Fee       Season  \n36   Defensive Midfield          30.0     42.099998  2021 - 2022  \n42       Centre-Forward           6.0     30.000000  2021 - 2022  \n52          Centre-Back           3.5     15.000000  2021 - 2022  \n122    Central Midfield          22.0     29.400000  2021 - 2022  \n141          Right-Back          18.0     15.000000  2021 - 2022  ",
      "text/html": "<div>\n<style scoped>\n    .dataframe tbody tr th:only-of-type {\n        vertical-align: middle;\n    }\n\n    .dataframe tbody tr th {\n        vertical-align: top;\n    }\n\n    .dataframe thead th {\n        text-align: right;\n    }\n</style>\n<table border=\"1\" class=\"dataframe\">\n  <thead>\n    <tr style=\"text-align: right;\">\n      <th></th>\n      <th>Name</th>\n      <th>In</th>\n      <th>Out</th>\n      <th>Age</th>\n      <th>Nationality</th>\n      <th>Position</th>\n      <th>Market_Value</th>\n      <th>Transfer_Fee</th>\n      <th>Season</th>\n    </tr>\n  </thead>\n  <tbody>\n    <tr>\n      <th>36</th>\n      <td>Bruno Guimarães</td>\n      <td>Newcastle</td>\n      <td>Olympique Lyon</td>\n      <td>24</td>\n      <td>Spain</td>\n      <td>Defensive Midfield</td>\n      <td>30.0</td>\n      <td>42.099998</td>\n      <td>2021 - 2022</td>\n    </tr>\n    <tr>\n      <th>42</th>\n      <td>Chris Wood</td>\n      <td>Newcastle</td>\n      <td>Burnley</td>\n      <td>30</td>\n      <td>New Zeland</td>\n      <td>Centre-Forward</td>\n      <td>6.0</td>\n      <td>30.000000</td>\n      <td>2021 - 2022</td>\n    </tr>\n    <tr>\n      <th>52</th>\n      <td>Dan Burn</td>\n      <td>Newcastle</td>\n      <td>Brighton</td>\n      <td>29</td>\n      <td>England</td>\n      <td>Centre-Back</td>\n      <td>3.5</td>\n      <td>15.000000</td>\n      <td>2021 - 2022</td>\n    </tr>\n    <tr>\n      <th>122</th>\n      <td>Joe Willock</td>\n      <td>Newcastle</td>\n      <td>Arsenal</td>\n      <td>21</td>\n      <td>Montserrat</td>\n      <td>Central Midfield</td>\n      <td>22.0</td>\n      <td>29.400000</td>\n      <td>2021 - 2022</td>\n    </tr>\n    <tr>\n      <th>141</th>\n      <td>Kieran Trippier</td>\n      <td>Newcastle</td>\n      <td>Atlético Madrid</td>\n      <td>31</td>\n      <td>England</td>\n      <td>Right-Back</td>\n      <td>18.0</td>\n      <td>15.000000</td>\n      <td>2021 - 2022</td>\n    </tr>\n  </tbody>\n</table>\n</div>"
     },
     "metadata": {}
    }
   ],
   "execution_count": null
  },
  {
   "cell_type": "markdown",
   "source": "### Volatility in the Football Transfer Market\nThe market value of a player in our dataset is determined by the Transfermarkt GmbH based on the transfer fees paid in the past and the player's current salary. Some financial attributes of the transaction are also considered such as:\n- Loan fees\n- Marketing values\n- Buyback options\nWe want to see how this evaluation relates to the transfers of the 2021-2022 season of the top clubs in the premier league to see which clubs deviate the most from the estimated values of the players in their purchase decisions.",
   "metadata": {
    "cell_id": "2c25975a-99de-4fed-a1f2-7b9f0cf8a39d",
    "tags": [],
    "deepnote_cell_type": "markdown",
    "deepnote_cell_height": 266
   }
  },
  {
   "cell_type": "code",
   "metadata": {
    "cell_id": "b9988a53-7300-43ce-8815-c80a11fb33fb",
    "tags": [],
    "deepnote_to_be_reexecuted": false,
    "source_hash": "490589df",
    "execution_start": 1647781423177,
    "execution_millis": 97909,
    "deepnote_cell_type": "code",
    "deepnote_cell_height": 81
   },
   "source": "data_transfers['Deviation'] = (data_transfers['Transfer_Fee'] - data_transfers['Market_Value'])*100/data_transfers['Market_Value']",
   "outputs": [],
   "execution_count": null
  },
  {
   "cell_type": "code",
   "metadata": {
    "cell_id": "44baa3a2-0b9c-4535-baca-b7e7a2bdc992",
    "tags": [],
    "deepnote_to_be_reexecuted": false,
    "source_hash": "5aca21d8",
    "execution_start": 1647781423228,
    "execution_millis": 97888,
    "deepnote_cell_type": "code",
    "deepnote_cell_height": 213,
    "deepnote_output_heights": [
     116
    ]
   },
   "source": "data_transfers['In'].unique()",
   "outputs": [
    {
     "output_type": "execute_result",
     "execution_count": 11,
     "data": {
      "text/plain": "array(['Brighton', 'Arsenal', 'Sheff Utd', 'Man Utd', 'Everton',\n       'Southampton', 'West Ham', 'Newcastle', 'Man City', 'Norwich',\n       'Fulham', 'Aston VIlla', 'Burnemouth', 'Leicester', 'Burnley',\n       'Chelsea', 'Liverpool', 'Wolves', 'Aston Villa', 'Tottenham',\n       'West Brom', 'Brentford', 'Watford', 'Leeds', 'Crystal Palace'],\n      dtype=object)"
     },
     "metadata": {}
    }
   ],
   "execution_count": null
  },
  {
   "cell_type": "code",
   "metadata": {
    "cell_id": "9b3ece91-f7c9-46a0-83ca-370547029718",
    "tags": [],
    "deepnote_to_be_reexecuted": false,
    "source_hash": "dd7f1b39",
    "execution_start": 1647781423229,
    "execution_millis": 4190,
    "deepnote_cell_type": "code",
    "deepnote_cell_height": 791,
    "deepnote_output_heights": [
     280
    ]
   },
   "source": "import seaborn as sns\nimport matplotlib.pyplot as plt\n\nplt.title('Incoming Transfers in the Premier League')\n\ndata = data_transfers\n\ncolors = ['#333','#963cff']\n\nseasons_dict = dict({'2019 - 2021': colors[0],\n                    '2021 - 2022': colors[1]})\n\ndata.Season = data.Season.replace('2019 - 2020', '2019 - 2021')\ndata.Season = data.Season.replace('2020 - 2021', '2019 - 2021')\n\ndata = data[data.In.isin(['Brighton', 'Arsenal', 'Sheff Utd', 'Man Utd', 'Everton',\n       'Southampton', 'West Ham', 'Newcastle', 'Man City', 'Norwich',\n       'Fulham', 'Aston VIlla', 'Burnemouth', 'Leicester', 'Burnley',\n       'Chelsea', 'Liverpool', 'Wolves', 'Aston Villa', 'Tottenham',\n       'West Brom', 'Brentford', 'Watford', 'Leeds', 'Crystal Palace'])]\nax = sns.stripplot(x=\"Deviation\", y=\"In\", hue=\"Season\", palette=seasons_dict, data=data)\n\n\nplt.ylabel('')\nplt.xlabel('Deviation from Market Value (%)')\nplt.savefig('top_clubs.png', dpi=300, bbox_inches='tight')\nplt.show()",
   "outputs": [
    {
     "data": {
      "text/plain": "<Figure size 432x288 with 1 Axes>",
      "image/png": "[encoded data removed]"
     },
     "metadata": {
      "needs_background": "light",
      "image/png": {
       "width": 428,
       "height": 278
      }
     },
     "output_type": "display_data"
    }
   ],
   "execution_count": null
  },
  {
   "cell_type": "markdown",
   "source": "While some of the top teams in the premier league pay up to 200% the currently estimated market value for a player, **Newcastle** has bought **Dan Burn** and **Chris Wood** at **4x** and **5x** their **valuation**. For the other three players, they seem to not have overpaid considering their strategy for the previous transfer seasons. This volatility seems to be aligned with the other premier league clubs. To see if the two outlier purchases are justified, we will model the value of these players ourselves using the statistics that we collected earlier from the premier league website.",
   "metadata": {
    "cell_id": "4adbb9eb-69ae-4a0d-9f2d-131a85b281d1",
    "tags": [],
    "deepnote_cell_type": "markdown",
    "deepnote_cell_height": 140
   }
  },
  {
   "cell_type": "markdown",
   "source": "### Player Evaluation Model for the Premier League",
   "metadata": {
    "cell_id": "13be4331-6455-4a83-a1ba-1e2dfadff590",
    "tags": [],
    "deepnote_cell_type": "markdown",
    "deepnote_cell_height": 62
   }
  },
  {
   "cell_type": "code",
   "metadata": {
    "cell_id": "2b391b7c-0e47-4e10-8949-76176974e976",
    "tags": [],
    "deepnote_to_be_reexecuted": false,
    "source_hash": "515a7cb4",
    "execution_start": 1647781427356,
    "execution_millis": 5,
    "deepnote_cell_type": "code",
    "deepnote_cell_height": 117
   },
   "source": "#Loading the players and transfers final datasets\ndata_players=pd.read_csv('players.csv')\ndata_transfers=pd.read_csv('all_transfers_data.csv')",
   "outputs": [],
   "execution_count": null
  },
  {
   "cell_type": "code",
   "metadata": {
    "cell_id": "93a26cf4-b6d8-4c13-9af7-94c267eb3672",
    "tags": [],
    "deepnote_to_be_reexecuted": false,
    "source_hash": "bbccff9f",
    "execution_start": 1647781427397,
    "execution_millis": 94650,
    "deepnote_cell_type": "code",
    "deepnote_cell_height": 117
   },
   "source": "#The transfers which Newcastle made in year 2021-2022\ndata_newcastle=data_transfers.loc[data_transfers['In'] == 'Newcastle']\ndata_newcastle_2122=data_newcastle.loc[data_newcastle['Season']=='2021 - 2022']",
   "outputs": [],
   "execution_count": null
  },
  {
   "cell_type": "code",
   "metadata": {
    "cell_id": "c24e44de-3936-478e-b433-cac6a0ea470e",
    "tags": [],
    "deepnote_to_be_reexecuted": false,
    "source_hash": "68d73b05",
    "execution_start": 1647781427425,
    "execution_millis": 94643,
    "deepnote_cell_type": "code",
    "deepnote_cell_height": 574
   },
   "source": "data_transfers = clean_transfers(data_transfers)\ndata_newcastle_2122=clean_transfers(data_newcastle_2122)",
   "outputs": [
    {
     "name": "stderr",
     "text": "/shared-libs/python3.7/py-core/lib/python3.7/site-packages/ipykernel_launcher.py:3: SettingWithCopyWarning: \nA value is trying to be set on a copy of a slice from a DataFrame.\nTry using .loc[row_indexer,col_indexer] = value instead\n\nSee the caveats in the documentation: https://pandas.pydata.org/pandas-docs/stable/user_guide/indexing.html#returning-a-view-versus-a-copy\n  This is separate from the ipykernel package so we can avoid doing imports until\n/shared-libs/python3.7/py-core/lib/python3.7/site-packages/ipykernel_launcher.py:4: SettingWithCopyWarning: \nA value is trying to be set on a copy of a slice from a DataFrame.\nTry using .loc[row_indexer,col_indexer] = value instead\n\nSee the caveats in the documentation: https://pandas.pydata.org/pandas-docs/stable/user_guide/indexing.html#returning-a-view-versus-a-copy\n  after removing the cwd from sys.path.\n/shared-libs/python3.7/py-core/lib/python3.7/site-packages/ipykernel_launcher.py:16: SettingWithCopyWarning: \nA value is trying to be set on a copy of a slice from a DataFrame.\nTry using .loc[row_indexer,col_indexer] = value instead\n\nSee the caveats in the documentation: https://pandas.pydata.org/pandas-docs/stable/user_guide/indexing.html#returning-a-view-versus-a-copy\n  app.launch_new_instance()\n/shared-libs/python3.7/py-core/lib/python3.7/site-packages/ipykernel_launcher.py:17: SettingWithCopyWarning: \nA value is trying to be set on a copy of a slice from a DataFrame.\nTry using .loc[row_indexer,col_indexer] = value instead\n\nSee the caveats in the documentation: https://pandas.pydata.org/pandas-docs/stable/user_guide/indexing.html#returning-a-view-versus-a-copy\n",
     "output_type": "stream"
    }
   ],
   "execution_count": null
  },
  {
   "cell_type": "markdown",
   "source": "### Adding transfer fee and Market Value to player Statistics",
   "metadata": {
    "cell_id": "ad2b2bd0-5ca8-4aaf-a0a0-c12babc7b863",
    "tags": [],
    "is_collapsed": false,
    "deepnote_cell_type": "text-cell-h3"
   }
  },
  {
   "cell_type": "code",
   "metadata": {
    "cell_id": "bcb08a78-2a24-4d21-b1aa-86c54c46a1f7",
    "tags": [],
    "deepnote_to_be_reexecuted": false,
    "source_hash": "9291c84e",
    "execution_start": 1647781427497,
    "execution_millis": 94568,
    "deepnote_cell_type": "code",
    "deepnote_cell_height": 171
   },
   "source": "data_players = data_players.set_index('Name')\ndata_players = data_players[~data_players.index.duplicated(keep='first')]\ndata_transfers = data_transfers.set_index('Name')\ndata_transfers = data_transfers[~data_transfers.index.duplicated(keep='first')]\ndata_newcastle_2122 = data_newcastle_2122.set_index('Name')\ndata_newcastle_2122 = data_newcastle_2122[~data_newcastle_2122.index.duplicated(keep='first')]",
   "outputs": [],
   "execution_count": null
  },
  {
   "cell_type": "code",
   "metadata": {
    "cell_id": "2aac4570-3c5e-44ff-885b-cc02722fc643",
    "tags": [],
    "deepnote_to_be_reexecuted": false,
    "source_hash": "4d0c9833",
    "execution_start": 1647781427497,
    "execution_millis": 94573,
    "deepnote_cell_type": "code",
    "deepnote_cell_height": 81
   },
   "source": "data_name_trans=data_transfers[['Transfer_Fee','Market_Value']]",
   "outputs": [],
   "execution_count": null
  },
  {
   "cell_type": "code",
   "metadata": {
    "cell_id": "9834b93f-cc1e-4ae6-810e-88947ff948eb",
    "tags": [],
    "deepnote_to_be_reexecuted": false,
    "source_hash": "2e2685ef",
    "execution_start": 1647781427541,
    "execution_millis": 94605,
    "deepnote_cell_type": "code",
    "deepnote_cell_height": 81
   },
   "source": "data_merged=pd.merge(data_players, data_name_trans, left_index=True, right_index=True)",
   "outputs": [],
   "execution_count": null
  },
  {
   "cell_type": "markdown",
   "source": "### Splitting dataframe based on Position",
   "metadata": {
    "cell_id": "bf3738ec-18cc-46b1-bb6e-ef261ad61128",
    "tags": [],
    "is_collapsed": false,
    "deepnote_cell_type": "text-cell-h3"
   }
  },
  {
   "cell_type": "code",
   "metadata": {
    "cell_id": "c215c6c1-7891-476c-9386-02f81b9e1946",
    "tags": [],
    "deepnote_to_be_reexecuted": false,
    "source_hash": "1bce0264",
    "execution_start": 1647781427542,
    "execution_millis": 94585,
    "deepnote_cell_type": "code",
    "deepnote_cell_height": 225
   },
   "source": "data=data_merged\n#create unique list of names\nUniqueNames = data.Position.unique()\n\n#create a data frame dictionary to store your data frames\nDataFrameDict = {elem : pd.DataFrame for elem in UniqueNames}\n\nfor key in DataFrameDict.keys():\n    DataFrameDict[key] = data[:][data.Position == key]",
   "outputs": [],
   "execution_count": null
  },
  {
   "cell_type": "code",
   "metadata": {
    "cell_id": "ff18f49d-26b4-40ad-b300-afb9cde2db48",
    "tags": [],
    "deepnote_to_be_reexecuted": false,
    "source_hash": "b515cba1",
    "execution_start": 1647781427584,
    "execution_millis": 74,
    "deepnote_cell_type": "code",
    "deepnote_cell_height": 279
   },
   "source": "data_Midfielder=DataFrameDict['Midfielder']\ndata_Goalkeeper=DataFrameDict['Goalkeeper']\ndata_Defender=DataFrameDict['Defender']\ndata_Forward=DataFrameDict['Forward']\ndata_Midfielder=data_Midfielder.drop('Position',axis=1)\ndata_Goalkeeper=data_Goalkeeper.drop('Position',axis=1)\ndata_Defender=data_Defender.drop('Position',axis=1)\ndata_Forward=data_Forward.drop('Position',axis=1)\ndata_Midfielder=data_Midfielder.apply(pd.to_numeric, errors='coerce')\ndata_Goalkeeper= data_Goalkeeper.apply(pd.to_numeric, errors='coerce')\ndata_Defender= data_Defender.apply(pd.to_numeric, errors='coerce')\ndata_Forward= data_Forward.apply(pd.to_numeric, errors='coerce')",
   "outputs": [],
   "execution_count": null
  },
  {
   "cell_type": "markdown",
   "source": "### Model on Midfielder",
   "metadata": {
    "cell_id": "538e55ab-2674-4804-bc15-07b5b251f914",
    "tags": [],
    "is_collapsed": false,
    "deepnote_cell_type": "text-cell-h3"
   }
  },
  {
   "cell_type": "code",
   "metadata": {
    "cell_id": "82402272-1e7e-43b8-892e-07796e492124",
    "tags": [],
    "deepnote_to_be_reexecuted": false,
    "source_hash": "eec6e753",
    "execution_start": 1647781427677,
    "execution_millis": 9,
    "deepnote_cell_type": "code",
    "deepnote_cell_height": 297
   },
   "source": "a=data_Midfielder[['Goals', 'Wins', 'Losses', 'Clean sheets',\n       'Goals Conceded', 'Tackles','Last man tackles',\n       'Blocked shots', 'Interceptions', 'Clearances', 'Headed Clearance',\n       'Clearances off line', 'Recoveries', 'Duels won', 'Duels lost',\n       'Successful 50/50s', 'Aerial battles won', 'Aerial battles lost',\n       'Own goals', 'Errors leading to goal', 'Assists', 'Passes',\n       'Passes per match', 'Big Chances Created', 'Crosses','Through balls', 'Accurate long balls',\n       'Yellow cards', 'Red cards', 'Fouls', 'Offsides', 'Headed goals',\n       'Goals with right foot', 'Goals with left foot', 'Hit woodwork',\n       'Goals per match', 'Penalties scored', 'Freekicks scored', 'Shots',\n       'Shots on target','Big chances missed', 'Saves',\n       'Penalties Saved', 'Punches', 'High Claims', 'Catches',\n       'Sweeper clearances', 'Throw outs', 'Goal Kicks']].div(data_Midfielder.Appearances,axis=0)",
   "outputs": [],
   "execution_count": null
  },
  {
   "cell_type": "code",
   "metadata": {
    "cell_id": "4d2c8753-f713-415a-93cf-77538366bf52",
    "tags": [],
    "deepnote_to_be_reexecuted": false,
    "source_hash": "120beec",
    "execution_start": 1647781427697,
    "execution_millis": 31,
    "deepnote_cell_type": "code",
    "deepnote_cell_height": 99
   },
   "source": "for col in a:\n    data_Midfielder[col]=a[col]",
   "outputs": [],
   "execution_count": null
  },
  {
   "cell_type": "markdown",
   "source": "### Predicting the transfer fee Using Linear Regression",
   "metadata": {
    "cell_id": "1601c0b4-77f6-4ead-b888-3081c6558677",
    "tags": [],
    "is_collapsed": false,
    "deepnote_cell_type": "text-cell-h3"
   }
  },
  {
   "cell_type": "code",
   "metadata": {
    "cell_id": "ae762e9d-db3f-4b55-afbb-6328bb7f6253",
    "tags": [],
    "deepnote_to_be_reexecuted": false,
    "source_hash": "ab76b6e5",
    "execution_start": 1647781427760,
    "execution_millis": 36,
    "deepnote_cell_type": "code",
    "deepnote_cell_height": 135
   },
   "source": "for col in data_Midfielder.columns:\n    missing=data_Midfielder[col].isna().sum()\n    if(missing>=45):\n        data_Midfielder=data_Midfielder.drop([col],axis=1)",
   "outputs": [],
   "execution_count": null
  },
  {
   "cell_type": "code",
   "metadata": {
    "cell_id": "1489119a-551d-4697-889a-622a7ba62dfc",
    "tags": [],
    "deepnote_to_be_reexecuted": false,
    "source_hash": "b08655c7",
    "execution_start": 1647781427853,
    "execution_millis": 1,
    "deepnote_cell_type": "code",
    "deepnote_cell_height": 135
   },
   "source": "data_Midfielder=data_Midfielder.drop(['Appearances'],axis=1)\nX_Midfielder=data_Midfielder.drop(['Transfer_Fee'],axis=1)\ny_Midfielder=data_Midfielder['Transfer_Fee']\ndata_Midfielder=data_Midfielder.fillna(0)",
   "outputs": [],
   "execution_count": null
  },
  {
   "cell_type": "code",
   "metadata": {
    "cell_id": "17453d6e-49f2-4100-8de6-deedfa21cc08",
    "tags": [],
    "deepnote_to_be_reexecuted": false,
    "source_hash": "199fd1c7",
    "execution_start": 1647781427854,
    "execution_millis": 1,
    "deepnote_cell_type": "code",
    "deepnote_cell_height": 315
   },
   "source": "data_Midfielder=data_Midfielder.fillna(0)\ntrain_data_Midfielder=data_Midfielder.drop(['Bruno Guimarães','Joe Willock'])\ndata_Midfielder=data_Midfielder.reset_index() \ntest_data_Midfielder=data_Midfielder[(data_Midfielder['Name'] == 'Bruno Guimarães') | (data_Midfielder['Name'] == 'Joe Willock' )]\nX_Midfielder_train=train_data_Midfielder.drop(['Transfer_Fee'],axis=1)\ny_Midfielder_train=train_data_Midfielder['Transfer_Fee']\nX_Midfielder_test=test_data_Midfielder.drop(['Transfer_Fee','Name'],axis=1)\ny_Midfielder_test=test_data_Midfielder['Transfer_Fee']\nreg = LinearRegression().fit(X_Midfielder_train, y_Midfielder_train)\ny_pred_train_Midfielder=reg.predict(X_Midfielder_train)\ny_pred_test_Midfielder=reg.predict(X_Midfielder_test)\ny_pred_train_Midfielder = ['{:f}'.format(item) for item in y_pred_train_Midfielder]\ny_pred_train_Midfielder=pd.DataFrame(y_pred_train_Midfielder)\ny_pred_test_Midfielder=pd.DataFrame(y_pred_test_Midfielder)",
   "outputs": [],
   "execution_count": null
  },
  {
   "cell_type": "markdown",
   "source": "### Model on Defender",
   "metadata": {
    "cell_id": "98dfbd6d-353d-48f9-8093-4170cd0b77a4",
    "tags": [],
    "is_collapsed": false,
    "deepnote_cell_type": "text-cell-h3"
   }
  },
  {
   "cell_type": "code",
   "metadata": {
    "cell_id": "4e3e69cc-ce08-4a4f-888a-19a563296bea",
    "tags": [],
    "deepnote_to_be_reexecuted": false,
    "source_hash": "43fd00d6",
    "execution_start": 1647781427855,
    "execution_millis": 41,
    "deepnote_cell_type": "code",
    "deepnote_cell_height": 297
   },
   "source": "b=data_Defender[['Goals', 'Wins', 'Losses', 'Clean sheets',\n       'Goals Conceded', 'Tackles','Last man tackles',\n       'Blocked shots', 'Interceptions', 'Clearances', 'Headed Clearance',\n       'Clearances off line', 'Recoveries', 'Duels won', 'Duels lost',\n       'Successful 50/50s', 'Aerial battles won', 'Aerial battles lost',\n       'Own goals', 'Errors leading to goal', 'Assists', 'Passes',\n       'Passes per match', 'Big Chances Created', 'Crosses','Through balls', 'Accurate long balls',\n       'Yellow cards', 'Red cards', 'Fouls', 'Offsides', 'Headed goals',\n       'Goals with right foot', 'Goals with left foot', 'Hit woodwork',\n       'Goals per match', 'Penalties scored', 'Freekicks scored', 'Shots',\n       'Shots on target','Big chances missed', 'Saves',\n       'Penalties Saved', 'Punches', 'High Claims', 'Catches',\n       'Sweeper clearances', 'Throw outs', 'Goal Kicks']].div(data_Defender.Appearances,axis=0)",
   "outputs": [],
   "execution_count": null
  },
  {
   "cell_type": "code",
   "metadata": {
    "cell_id": "eb44df92-c890-48b3-89fd-87318871ee8c",
    "tags": [],
    "deepnote_to_be_reexecuted": false,
    "source_hash": "96d1938e",
    "execution_start": 1647781427897,
    "execution_millis": 0,
    "deepnote_cell_type": "code",
    "deepnote_cell_height": 99
   },
   "source": "for col in b:\n    data_Defender[col]=b[col]",
   "outputs": [],
   "execution_count": null
  },
  {
   "cell_type": "code",
   "metadata": {
    "cell_id": "e1781a35-d30d-4395-87f1-f0df762027ec",
    "tags": [],
    "deepnote_to_be_reexecuted": false,
    "source_hash": "b864783e",
    "execution_start": 1647781427926,
    "execution_millis": 5,
    "deepnote_cell_type": "code",
    "deepnote_cell_height": 135
   },
   "source": "for col in data_Defender.columns:\n    missing=data_Defender[col].isna().sum()\n    if(missing>=45):\n        data_Defender=data_Defender.drop([col],axis=1)",
   "outputs": [],
   "execution_count": null
  },
  {
   "cell_type": "code",
   "metadata": {
    "cell_id": "4bde67cf-1b36-4b57-91f5-d195bb30676d",
    "tags": [],
    "deepnote_to_be_reexecuted": false,
    "source_hash": "79fb86b3",
    "execution_start": 1647781427993,
    "execution_millis": 0,
    "deepnote_cell_type": "code",
    "deepnote_cell_height": 261
   },
   "source": "data_Defender=data_Defender.drop(['Appearances'],axis=1)\nX_Defender=data_Defender.drop(['Transfer_Fee'],axis=1)\ny_Defender=data_Defender['Transfer_Fee']\ndata_Defender=data_Defender.fillna(0)\ntrain_data_Defender=data_Defender.drop(['Kieran Trippier','Dan Burn'])\ndata_Defender=data_Defender.reset_index() \ntest_data_Defender=data_Defender[(data_Defender['Name'] == 'Kieran Trippier') | (data_Defender['Name'] == 'Dan Burn' )]\nX_Defender_train=train_data_Defender.drop(['Transfer_Fee'],axis=1)\ny_Defender_train=train_data_Defender['Transfer_Fee']\nX_Defender_test=test_data_Defender.drop(['Transfer_Fee','Name'],axis=1)\ny_Defender_test=test_data_Defender['Transfer_Fee']",
   "outputs": [],
   "execution_count": null
  },
  {
   "cell_type": "code",
   "metadata": {
    "cell_id": "c69f40c3-2c9a-4884-b755-cef419014178",
    "tags": [],
    "deepnote_to_be_reexecuted": false,
    "source_hash": "54507a8",
    "execution_start": 1647781427993,
    "execution_millis": 1,
    "deepnote_cell_type": "code",
    "deepnote_cell_height": 171
   },
   "source": "reg = LinearRegression().fit(X_Defender_train, y_Defender_train)\ny_pred_train_Defender=reg.predict(X_Defender_train)\ny_pred_test_Defender=reg.predict(X_Defender_test)\ny_pred_train_Defender = ['{:f}'.format(item) for item in y_pred_train_Defender]\ny_pred_train_Defender=pd.DataFrame(y_pred_train_Defender)\ny_pred_test_Defender=pd.DataFrame(y_pred_test_Defender)",
   "outputs": [],
   "execution_count": null
  },
  {
   "cell_type": "markdown",
   "source": "### Model on Forward",
   "metadata": {
    "cell_id": "c05bf645-6035-465b-9568-fcb23714a6bf",
    "tags": [],
    "is_collapsed": false,
    "deepnote_cell_type": "text-cell-h3"
   }
  },
  {
   "cell_type": "code",
   "metadata": {
    "cell_id": "35715e1f-c6ef-462e-beaf-d6cb75ca92a9",
    "tags": [],
    "deepnote_to_be_reexecuted": false,
    "source_hash": "46600876",
    "execution_start": 1647781427994,
    "execution_millis": 0,
    "deepnote_cell_type": "code",
    "deepnote_cell_height": 297
   },
   "source": "c=data_Forward[['Goals', 'Wins', 'Losses', 'Clean sheets',\n       'Goals Conceded', 'Tackles','Last man tackles',\n       'Blocked shots', 'Interceptions', 'Clearances', 'Headed Clearance',\n       'Clearances off line', 'Recoveries', 'Duels won', 'Duels lost',\n       'Successful 50/50s', 'Aerial battles won', 'Aerial battles lost',\n       'Own goals', 'Errors leading to goal', 'Assists', 'Passes',\n       'Passes per match', 'Big Chances Created', 'Crosses','Through balls', 'Accurate long balls',\n       'Yellow cards', 'Red cards', 'Fouls', 'Offsides', 'Headed goals',\n       'Goals with right foot', 'Goals with left foot', 'Hit woodwork',\n       'Goals per match', 'Penalties scored', 'Freekicks scored', 'Shots',\n       'Shots on target','Big chances missed', 'Saves',\n       'Penalties Saved', 'Punches', 'High Claims', 'Catches',\n       'Sweeper clearances', 'Throw outs', 'Goal Kicks']].div(data_Forward.Appearances,axis=0)",
   "outputs": [],
   "execution_count": null
  },
  {
   "cell_type": "code",
   "metadata": {
    "cell_id": "d4ea2dc6-22a8-49c6-bebb-c8259630cff3",
    "tags": [],
    "deepnote_to_be_reexecuted": false,
    "source_hash": "5e3fd2fb",
    "execution_start": 1647781428037,
    "execution_millis": 13,
    "deepnote_cell_type": "code",
    "deepnote_cell_height": 189
   },
   "source": "for col in c:\n    data_Forward[col]=c[col]\n\nfor col in data_Forward.columns:\n    missing=data_Forward[col].isna().sum()\n    if(missing>=45):\n        data_Forward=data_Forward.drop([col],axis=1)",
   "outputs": [],
   "execution_count": null
  },
  {
   "cell_type": "code",
   "metadata": {
    "cell_id": "a4ffff0c-dd28-44dc-a978-e7c3aa965c41",
    "tags": [],
    "deepnote_to_be_reexecuted": false,
    "source_hash": "5ca5e739",
    "execution_start": 1647781428108,
    "execution_millis": 1,
    "deepnote_cell_type": "code",
    "deepnote_cell_height": 225
   },
   "source": "data_Forward=data_Forward.drop(['Appearances'],axis=1)\ndata_Forward=data_Forward.fillna(0)\ntrain_data_Forward=data_Forward.drop(['Chris Wood'])\ndata_Forward=data_Forward.reset_index() \ntest_data_Forward=data_Forward[data_Forward['Name'] == 'Chris Wood']\nX_Forward_train=train_data_Forward.drop(['Transfer_Fee'],axis=1)\ny_Forward_train=train_data_Forward['Transfer_Fee']\nX_Forward_test=test_data_Forward.drop(['Transfer_Fee','Name'],axis=1)\ny_Forward_test=test_data_Forward['Transfer_Fee']",
   "outputs": [],
   "execution_count": null
  },
  {
   "cell_type": "code",
   "metadata": {
    "cell_id": "091cf56c-aa9d-4971-ba3b-f1c5d6a9947c",
    "tags": [],
    "deepnote_to_be_reexecuted": false,
    "source_hash": "eb986259",
    "execution_start": 1647781428109,
    "execution_millis": 0,
    "deepnote_cell_type": "code",
    "deepnote_cell_height": 171
   },
   "source": "reg = LinearRegression().fit(X_Forward_train, y_Forward_train)\ny_pred_train_Forward=reg.predict(X_Forward_train)\ny_pred_test_Forward=reg.predict(X_Forward_test)\ny_pred_train_Forward = ['{:f}'.format(item) for item in y_pred_train_Forward]\ny_pred_train_Forward=pd.DataFrame(y_pred_train_Forward)\ny_pred_test_Forward=pd.DataFrame(y_pred_test_Forward)",
   "outputs": [],
   "execution_count": null
  },
  {
   "cell_type": "markdown",
   "source": "The model has some limitations but can be developed further if more data(player statistics and transfers) will be added.",
   "metadata": {
    "cell_id": "90f5508e-5900-4f6e-bd19-8fd2c420b3c4",
    "tags": [],
    "is_collapsed": false,
    "deepnote_cell_type": "text-cell-p"
   }
  },
  {
   "cell_type": "markdown",
   "source": "### Predictions and Actual Transfer fee",
   "metadata": {
    "cell_id": "0b8d01b8-9fb3-4337-8924-8d0870489e17",
    "tags": [],
    "is_collapsed": false,
    "deepnote_cell_type": "text-cell-h3"
   }
  },
  {
   "cell_type": "code",
   "metadata": {
    "cell_id": "07700420-93b7-4f71-85c8-40074fc347c2",
    "tags": [],
    "deepnote_to_be_reexecuted": false,
    "source_hash": "8db625de",
    "execution_start": 1647781428197,
    "execution_millis": 239,
    "deepnote_cell_type": "code",
    "deepnote_cell_height": 731,
    "deepnote_output_heights": [
     292
    ]
   },
   "source": "import matplotlib.pyplot as plt\nfrom matplotlib.lines import Line2D\n\nfig, ax = plt.subplots()\n\nFootball_player = ['Bruno \\nGuimarães','Joe \\nWillock','Kieran \\nTrippier','Dan \\nBurn','Chris \\nWood']\nActual_transfer_fee=[42.099998474121094,21,31,15 ,30]\nPredicted_transfer_fee=[32.40216538811653,29.404011204821085,2.5741798258806505,7.489077564749387,25.62686154606623]\n\nax.bar(Football_player,Actual_transfer_fee, color='orange')\nax.bar(Football_player,Predicted_transfer_fee, color='blue')\n\nlegend_elements = [Line2D([0], [0], color='blue', lw=4, label='predicted'),\n                    Line2D([0], [0], color='orange', lw=4, label='actual')]\nax.legend(handles=legend_elements)\n\nplt.title('Actual Transfer fee vs Predicted Transfer fee')\nplt.xlabel('Newcastle Draft')\nplt.ylabel('Transfer Fee')\nplt.show()",
   "outputs": [
    {
     "data": {
      "text/plain": "<Figure size 432x288 with 1 Axes>",
      "image/png": "[encoded data removed]"
     },
     "metadata": {
      "needs_background": "light",
      "image/png": {
       "width": 382,
       "height": 290
      }
     },
     "output_type": "display_data"
    }
   ],
   "execution_count": null
  },
  {
   "cell_type": "markdown",
   "source": "Looking at the predictions and actual transfers fee it can be concluded that the Newcastle overpaid for the new transfers in the season 2021-2022.",
   "metadata": {
    "cell_id": "29c529cc-675c-48f2-afc3-413964fd6120",
    "tags": [],
    "deepnote_cell_type": "markdown",
    "deepnote_cell_height": 74
   }
  },
  {
   "cell_type": "markdown",
   "source": "## Data Ethics for Sport Transfers",
   "metadata": {
    "cell_id": "03cfea02-da4f-41fc-bf9b-e7ae493eedfc",
    "tags": [],
    "is_collapsed": false,
    "deepnote_cell_type": "text-cell-h2"
   }
  },
  {
   "cell_type": "markdown",
   "source": "The data which has been used for this project includes the number of goals, wins, losses, and other statistics collected during the football match. This information is publicly available as it does not contain any sensible data and can be used for different purposes including study and research purposes as well. Besides, football teams gather sensible data about the football players including the training details, the meal plan of football players, sleeping hours, daily routine, and a few more. This data is available only between the football coach and player and is not available to the public.(https://www.wired.com/story/the-tricky-ethics-of-the-nfls-new-open-data-policy/) The data which has been scrapped from Transfermarkt is publicly available and transfer fee and market value are also transparent information to be used. The websites which have been used to scrap the data make it explicit that the data use and scrapping are legal as stated in their *'robots.txt'* file:",
   "metadata": {
    "cell_id": "1ac3a09f-6096-41a7-a46b-3d49c63ead3b",
    "tags": [],
    "is_collapsed": false,
    "deepnote_cell_type": "text-cell-p"
   }
  },
  {
   "cell_type": "markdown",
   "source": "```\nUser-agent: Slurp\nCrawl-delay: 2\n\nUser-agent: Mediapartners-Google\nDisallow:\n\nUser-agent: wget\nDisallow: /\n\nUser-agent: *\nAllow: /\n```",
   "metadata": {
    "cell_id": "de3ed994-892c-4bd8-9717-956df86b3825",
    "tags": [],
    "deepnote_cell_type": "markdown",
    "deepnote_cell_height": 270
   }
  },
  {
   "cell_type": "markdown",
   "source": "On the other side, data tracking in sports analytics has seen quite some pushbacks from players in the recent years as [The Guardian](https://www.theguardian.com/football/2021/oct/12/hundreds-of-professional-footballers-threaten-action-against-betting-companies) reported five month ago. Players argue that they should be compensated for the use of their personal data according to article 4 of the GDPR. However, according to the article 82 of the GDPR the right to compensation only arises if the person has suffered a material or non-material damage. Contrary to the Guardian article the websites which use the data could prove that they are not damaging the players' reputations or career opportunities by the use of the data and that componsation of the money is not applicable in this situation. In this case, finding the line between personal and professional or financial data to be collected is crucial as we move forward to acquire a wider variety of player related attributes.",
   "metadata": {
    "cell_id": "0e123de0-753b-44e3-90d8-54ebf3720935",
    "tags": [],
    "deepnote_cell_type": "markdown",
    "deepnote_cell_height": 184
   }
  },
  {
   "cell_type": "markdown",
   "source": "",
   "metadata": {
    "cell_id": "5d8203dd-a342-4f34-95f4-8163ee83c702",
    "tags": [],
    "deepnote_cell_type": "markdown",
    "deepnote_cell_height": 46
   }
  },
  {
   "cell_type": "markdown",
   "source": "<a style='text-decoration:none;line-height:16px;display:flex;color:#5B5B62;padding:10px;justify-content:end;' href='https://deepnote.com?utm_source=created-in-deepnote-cell&projectId=01de0f3a-b7ba-40e0-8606-4a098a43ff18' target=\"_blank\">\n<img alt='Created in deepnote.com' style='display:inline;max-height:16px;margin:0px;margin-right:7.5px;' src='data:image/svg+xml;base64,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' > </img>\nCreated in <span style='font-weight:600;margin-left:4px;'>Deepnote</span></a>",
   "metadata": {
    "tags": [],
    "created_in_deepnote_cell": true,
    "deepnote_cell_type": "markdown"
   }
  }
 ],
 "nbformat": 4,
 "nbformat_minor": 2,
 "metadata": {
  "orig_nbformat": 2,
  "deepnote": {
   "is_reactive": false
  },
  "deepnote_notebook_id": "fabf6a3c-c202-4716-aa77-29f0fa1e4758",
  "deepnote_execution_queue": []
 }
}